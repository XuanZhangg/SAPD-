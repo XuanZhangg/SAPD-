{
 "cells": [
  {
   "cell_type": "code",
   "execution_count": 1,
   "metadata": {},
   "outputs": [
    {
     "name": "stdout",
     "output_type": "stream",
     "text": [
      "Example of the data\n",
      "tensor([0., 0., 0.,  ..., 0., 0., 0.], device='cuda:0')\n",
      "20242\n",
      "tensor([ 1,  1,  1,  ..., -1,  1, -1], device='cuda:0')\n"
     ]
    }
   ],
   "source": [
    "import torch\n",
    "import torch.nn as nn\n",
    "import torch.nn.functional as F\n",
    "import numpy as np\n",
    "import copy\n",
    "from model import Model\n",
    "from Optimization_Method import projection_simplex_sort as pj\n",
    "import pickle\n",
    "import matplotlib.pyplot as plt\n",
    "import random\n",
    "from dataclass import Creatdata\n",
    "#example of pickle\n",
    "# l = [1,2,3,4]\n",
    "# with open(\"test\", \"wb\") as fp:   #Pickling\n",
    "#     pickle.dump(l, fp)\n",
    "\n",
    "# with open(\"test\", \"rb\") as fp:   # Unpickling\n",
    "#     b = pickle.load(fp)\n",
    "device = 'cuda' if torch.cuda.is_available() else 'cpu'\n",
    "torch.cuda.get_device_name(0)\n",
    "\n",
    "data_name = 'rcv1'\n",
    "\n",
    "is_create_data = False\n",
    "\n",
    "if is_create_data:\n",
    "    data_path = './data/'+ data_name +'.py'\n",
    "    exec(open(data_path).read())\n",
    "else:\n",
    "    file_name = './data/' + data_name + '/' + data_name\n",
    "    with open(file_name, \"rb\") as fp:   # Unpickling\n",
    "        train_set = pickle.load(fp)\n",
    "\n",
    "train_set.data = train_set.data.to(device)\n",
    "train_set.targets = train_set.targets.to(device)\n",
    "\n",
    "print('Example of the data')\n",
    "print(train_set.data[5])\n",
    "print(len(train_set))\n",
    "print(train_set.targets)\n",
    "\n",
    "epoch_number = 20000\n",
    "max_epoch = 100\n",
    "b,b_1,q = 3000,10,10 \n",
    "sim_time = 1"
   ]
  },
  {
   "cell_type": "markdown",
   "metadata": {},
   "source": [
    "SAPD Algorithm"
   ]
  },
  {
   "cell_type": "code",
   "execution_count": 23,
   "metadata": {},
   "outputs": [
    {
     "name": "stdout",
     "output_type": "stream",
     "text": [
      "sample complexity is 159000 , epoch is 7 , acc is tensor(0.7995) , loss is 0.6898378\n",
      "sample complexity is 318000 , epoch is 15 , acc is tensor(0.8845) , loss is 0.68728846\n",
      "sample complexity is 477000 , epoch is 23 , acc is tensor(0.9074) , loss is 0.6851177\n",
      "sample complexity is 636000 , epoch is 31 , acc is tensor(0.9156) , loss is 0.68344384\n",
      "sample complexity is 795000 , epoch is 39 , acc is tensor(0.9203) , loss is 0.68187535\n",
      "sample complexity is 954000 , epoch is 47 , acc is tensor(0.9218) , loss is 0.6806264\n",
      "sample complexity is 1113000 , epoch is 55 , acc is tensor(0.9229) , loss is 0.67959106\n",
      "sample complexity is 1272000 , epoch is 63 , acc is tensor(0.9241) , loss is 0.67876434\n",
      "sample complexity is 1431000 , epoch is 71 , acc is tensor(0.9249) , loss is 0.67811424\n",
      "sample complexity is 1590000 , epoch is 79 , acc is tensor(0.9254) , loss is 0.6775418\n",
      "sample complexity is 1749000 , epoch is 87 , acc is tensor(0.9256) , loss is 0.67700195\n",
      "sample complexity is 1908000 , epoch is 95 , acc is tensor(0.9261) , loss is 0.67659783\n",
      "sample complexity is 2067000 , epoch is 103 , acc is tensor(0.9261) , loss is 0.67624336\n",
      "sample complexity is 2226000 , epoch is 111 , acc is tensor(0.9256) , loss is 0.675874\n",
      "\n",
      "Simulation time  1  is done.....\n",
      "sample complexity is 2226000 , epoch is 111 , acc is tensor(0.9256) , loss is 0.675874\n",
      "\n"
     ]
    }
   ],
   "source": [
    "\n",
    "max_epoch = 100\n",
    "b = 200\n",
    "torch.manual_seed(2)\n",
    "np.random.seed(7)\n",
    "from algorithms import SAPD\n",
    "SAPD(train_set = train_set,data_name = data_name,\n",
    "      b = b, b_1 = b_1, q = q,\n",
    "      max_epoch=max_epoch,epoch_numer=epoch_number,sim_time=sim_time,mu_x = 0.1,\n",
    "       lr_x=1, lr_y = 0.0001, theta0=0.9, theta_rate= 1,\n",
    "       is_save_data=True, is_show_result=True)"
   ]
  },
  {
   "cell_type": "markdown",
   "metadata": {},
   "source": [
    "SAPD Variance Reduction Method"
   ]
  },
  {
   "cell_type": "code",
   "execution_count": 2,
   "metadata": {},
   "outputs": [
    {
     "name": "stderr",
     "output_type": "stream",
     "text": [
      "c:\\Users\\Xuan\\d2l-en\\NIPS2022\\Experiment2_Logistic_regression\\model.py:10: UserWarning: nn.init.xavier_uniform is now deprecated in favor of nn.init.xavier_uniform_.\n",
      "  self.w = torch.nn.init.xavier_uniform(self.w)\n"
     ]
    },
    {
     "name": "stdout",
     "output_type": "stream",
     "text": [
      "sample complexity is 27750 , epoch is 1 , acc is tensor(0.9240, device='cuda:0') , loss is 0.68288934\n",
      "sample complexity is 40020 , epoch is 2 , acc is tensor(0.9269, device='cuda:0') , loss is 0.68090415\n",
      "sample complexity is 64600 , epoch is 3 , acc is tensor(0.9256, device='cuda:0') , loss is 0.67803675\n",
      "sample complexity is 89280 , epoch is 4 , acc is tensor(0.9222, device='cuda:0') , loss is 0.6757479\n",
      "sample complexity is 104650 , epoch is 5 , acc is tensor(0.9266, device='cuda:0') , loss is 0.67434317\n",
      "sample complexity is 120050 , epoch is 6 , acc is tensor(0.9277, device='cuda:0') , loss is 0.6726855\n",
      "sample complexity is 153960 , epoch is 7 , acc is tensor(0.9241, device='cuda:0') , loss is 0.66896945\n",
      "sample complexity is 172430 , epoch is 8 , acc is tensor(0.9225, device='cuda:0') , loss is 0.66743046\n",
      "sample complexity is 190900 , epoch is 9 , acc is tensor(0.9226, device='cuda:0') , loss is 0.66583675\n",
      "sample complexity is 209370 , epoch is 10 , acc is tensor(0.9208, device='cuda:0') , loss is 0.6642825\n",
      "sample complexity is 227840 , epoch is 11 , acc is tensor(0.9192, device='cuda:0') , loss is 0.6628178\n",
      "sample complexity is 246310 , epoch is 12 , acc is tensor(0.9164, device='cuda:0') , loss is 0.66105074\n",
      "sample complexity is 264780 , epoch is 13 , acc is tensor(0.9135, device='cuda:0') , loss is 0.659335\n",
      "sample complexity is 283250 , epoch is 14 , acc is tensor(0.9110, device='cuda:0') , loss is 0.65751344\n",
      "sample complexity is 301720 , epoch is 15 , acc is tensor(0.9068, device='cuda:0') , loss is 0.65554875\n",
      "sample complexity is 320190 , epoch is 16 , acc is tensor(0.9015, device='cuda:0') , loss is 0.6537156\n",
      "sample complexity is 357130 , epoch is 17 , acc is tensor(0.8956, device='cuda:0') , loss is 0.65009946\n",
      "sample complexity is 375600 , epoch is 18 , acc is tensor(0.8940, device='cuda:0') , loss is 0.64829075\n",
      "sample complexity is 394070 , epoch is 19 , acc is tensor(0.8906, device='cuda:0') , loss is 0.6465377\n",
      "sample complexity is 412540 , epoch is 20 , acc is tensor(0.8870, device='cuda:0') , loss is 0.64485127\n",
      "sample complexity is 431010 , epoch is 21 , acc is tensor(0.8849, device='cuda:0') , loss is 0.643446\n",
      "sample complexity is 449480 , epoch is 22 , acc is tensor(0.8820, device='cuda:0') , loss is 0.6416792\n",
      "sample complexity is 467950 , epoch is 23 , acc is tensor(0.8790, device='cuda:0') , loss is 0.64024657\n",
      "sample complexity is 486420 , epoch is 24 , acc is tensor(0.8774, device='cuda:0') , loss is 0.63894403\n",
      "sample complexity is 504890 , epoch is 25 , acc is tensor(0.8746, device='cuda:0') , loss is 0.6376062\n",
      "sample complexity is 523360 , epoch is 26 , acc is tensor(0.8704, device='cuda:0') , loss is 0.6361496\n",
      "sample complexity is 541830 , epoch is 27 , acc is tensor(0.8696, device='cuda:0') , loss is 0.6349961\n",
      "sample complexity is 560300 , epoch is 28 , acc is tensor(0.8639, device='cuda:0') , loss is 0.6336524\n",
      "sample complexity is 597240 , epoch is 29 , acc is tensor(0.8607, device='cuda:0') , loss is 0.6316204\n",
      "sample complexity is 615710 , epoch is 30 , acc is tensor(0.8595, device='cuda:0') , loss is 0.63038534\n",
      "sample complexity is 634180 , epoch is 31 , acc is tensor(0.8585, device='cuda:0') , loss is 0.6293158\n",
      "sample complexity is 652650 , epoch is 32 , acc is tensor(0.8556, device='cuda:0') , loss is 0.62847334\n",
      "sample complexity is 671120 , epoch is 33 , acc is tensor(0.8522, device='cuda:0') , loss is 0.6274989\n",
      "sample complexity is 689590 , epoch is 34 , acc is tensor(0.8523, device='cuda:0') , loss is 0.62653774\n",
      "sample complexity is 708060 , epoch is 35 , acc is tensor(0.8493, device='cuda:0') , loss is 0.6254778\n",
      "sample complexity is 726530 , epoch is 36 , acc is tensor(0.8472, device='cuda:0') , loss is 0.6245428\n",
      "sample complexity is 745000 , epoch is 37 , acc is tensor(0.8463, device='cuda:0') , loss is 0.6238143\n",
      "sample complexity is 763470 , epoch is 38 , acc is tensor(0.8465, device='cuda:0') , loss is 0.6230528\n",
      "sample complexity is 781940 , epoch is 39 , acc is tensor(0.8465, device='cuda:0') , loss is 0.622207\n",
      "sample complexity is 800410 , epoch is 40 , acc is tensor(0.8434, device='cuda:0') , loss is 0.6214002\n",
      "sample complexity is 837350 , epoch is 41 , acc is tensor(0.8415, device='cuda:0') , loss is 0.619895\n",
      "sample complexity is 855820 , epoch is 42 , acc is tensor(0.8398, device='cuda:0') , loss is 0.61921763\n",
      "sample complexity is 874290 , epoch is 43 , acc is tensor(0.8365, device='cuda:0') , loss is 0.6185519\n",
      "sample complexity is 892760 , epoch is 44 , acc is tensor(0.8369, device='cuda:0') , loss is 0.617808\n",
      "sample complexity is 911230 , epoch is 45 , acc is tensor(0.8372, device='cuda:0') , loss is 0.6172255\n",
      "sample complexity is 929700 , epoch is 46 , acc is tensor(0.8352, device='cuda:0') , loss is 0.61662966\n",
      "sample complexity is 948170 , epoch is 47 , acc is tensor(0.8309, device='cuda:0') , loss is 0.61586607\n",
      "sample complexity is 966640 , epoch is 48 , acc is tensor(0.8305, device='cuda:0') , loss is 0.61517113\n",
      "sample complexity is 985110 , epoch is 49 , acc is tensor(0.8269, device='cuda:0') , loss is 0.61470824\n",
      "sample complexity is 1003580 , epoch is 50 , acc is tensor(0.8261, device='cuda:0') , loss is 0.61399376\n",
      "sample complexity is 1022050 , epoch is 51 , acc is tensor(0.8267, device='cuda:0') , loss is 0.6132234\n",
      "sample complexity is 1040520 , epoch is 52 , acc is tensor(0.8264, device='cuda:0') , loss is 0.6125209\n",
      "sample complexity is 1077460 , epoch is 53 , acc is tensor(0.8253, device='cuda:0') , loss is 0.61100084\n",
      "sample complexity is 1095930 , epoch is 54 , acc is tensor(0.8238, device='cuda:0') , loss is 0.6103009\n",
      "sample complexity is 1114400 , epoch is 55 , acc is tensor(0.8249, device='cuda:0') , loss is 0.6095997\n",
      "sample complexity is 1132870 , epoch is 56 , acc is tensor(0.8265, device='cuda:0') , loss is 0.60880756\n",
      "sample complexity is 1151340 , epoch is 57 , acc is tensor(0.8223, device='cuda:0') , loss is 0.6080047\n",
      "sample complexity is 1169810 , epoch is 58 , acc is tensor(0.8225, device='cuda:0') , loss is 0.60727656\n",
      "sample complexity is 1188280 , epoch is 59 , acc is tensor(0.8211, device='cuda:0') , loss is 0.60664934\n",
      "sample complexity is 1206750 , epoch is 60 , acc is tensor(0.8220, device='cuda:0') , loss is 0.6058089\n",
      "sample complexity is 1225220 , epoch is 61 , acc is tensor(0.8255, device='cuda:0') , loss is 0.6051934\n",
      "sample complexity is 1243690 , epoch is 62 , acc is tensor(0.8234, device='cuda:0') , loss is 0.60451466\n",
      "sample complexity is 1262160 , epoch is 63 , acc is tensor(0.8226, device='cuda:0') , loss is 0.6037347\n",
      "sample complexity is 1280630 , epoch is 64 , acc is tensor(0.8238, device='cuda:0') , loss is 0.60298234\n",
      "sample complexity is 1317570 , epoch is 65 , acc is tensor(0.8249, device='cuda:0') , loss is 0.6016627\n",
      "sample complexity is 1336040 , epoch is 66 , acc is tensor(0.8245, device='cuda:0') , loss is 0.60102075\n",
      "sample complexity is 1354510 , epoch is 67 , acc is tensor(0.8271, device='cuda:0') , loss is 0.6003535\n",
      "sample complexity is 1372980 , epoch is 68 , acc is tensor(0.8254, device='cuda:0') , loss is 0.59981054\n",
      "sample complexity is 1391450 , epoch is 69 , acc is tensor(0.8253, device='cuda:0') , loss is 0.59911025\n",
      "sample complexity is 1409920 , epoch is 70 , acc is tensor(0.8248, device='cuda:0') , loss is 0.5984138\n",
      "sample complexity is 1428390 , epoch is 71 , acc is tensor(0.8243, device='cuda:0') , loss is 0.5977744\n",
      "sample complexity is 1446860 , epoch is 72 , acc is tensor(0.8226, device='cuda:0') , loss is 0.5973085\n",
      "sample complexity is 1465330 , epoch is 73 , acc is tensor(0.8223, device='cuda:0') , loss is 0.5965843\n",
      "sample complexity is 1483800 , epoch is 74 , acc is tensor(0.8257, device='cuda:0') , loss is 0.59596956\n",
      "sample complexity is 1502270 , epoch is 75 , acc is tensor(0.8229, device='cuda:0') , loss is 0.5953774\n",
      "sample complexity is 1520740 , epoch is 76 , acc is tensor(0.8237, device='cuda:0') , loss is 0.5947265\n",
      "sample complexity is 1557680 , epoch is 77 , acc is tensor(0.8234, device='cuda:0') , loss is 0.5937225\n",
      "sample complexity is 1576150 , epoch is 78 , acc is tensor(0.8241, device='cuda:0') , loss is 0.5931494\n",
      "sample complexity is 1594620 , epoch is 79 , acc is tensor(0.8227, device='cuda:0') , loss is 0.59259474\n",
      "sample complexity is 1613090 , epoch is 80 , acc is tensor(0.8260, device='cuda:0') , loss is 0.59215933\n",
      "sample complexity is 1631560 , epoch is 81 , acc is tensor(0.8232, device='cuda:0') , loss is 0.591479\n",
      "sample complexity is 1650030 , epoch is 82 , acc is tensor(0.8265, device='cuda:0') , loss is 0.5910371\n",
      "sample complexity is 1668500 , epoch is 83 , acc is tensor(0.8289, device='cuda:0') , loss is 0.5905481\n",
      "sample complexity is 1686970 , epoch is 84 , acc is tensor(0.8259, device='cuda:0') , loss is 0.58996665\n",
      "sample complexity is 1705440 , epoch is 85 , acc is tensor(0.8249, device='cuda:0') , loss is 0.58941525\n",
      "sample complexity is 1723910 , epoch is 86 , acc is tensor(0.8234, device='cuda:0') , loss is 0.5890261\n",
      "sample complexity is 1742380 , epoch is 87 , acc is tensor(0.8231, device='cuda:0') , loss is 0.5884987\n",
      "sample complexity is 1760850 , epoch is 88 , acc is tensor(0.8234, device='cuda:0') , loss is 0.58798057\n",
      "sample complexity is 1797790 , epoch is 89 , acc is tensor(0.8250, device='cuda:0') , loss is 0.5869872\n",
      "sample complexity is 1816260 , epoch is 90 , acc is tensor(0.8257, device='cuda:0') , loss is 0.5867046\n",
      "sample complexity is 1834730 , epoch is 91 , acc is tensor(0.8268, device='cuda:0') , loss is 0.5862053\n",
      "sample complexity is 1853200 , epoch is 92 , acc is tensor(0.8234, device='cuda:0') , loss is 0.58554643\n",
      "sample complexity is 1871670 , epoch is 93 , acc is tensor(0.8256, device='cuda:0') , loss is 0.58522105\n",
      "sample complexity is 1890140 , epoch is 94 , acc is tensor(0.8254, device='cuda:0') , loss is 0.58469117\n",
      "sample complexity is 1908610 , epoch is 95 , acc is tensor(0.8255, device='cuda:0') , loss is 0.58435607\n",
      "sample complexity is 1927080 , epoch is 96 , acc is tensor(0.8249, device='cuda:0') , loss is 0.5839309\n",
      "sample complexity is 1945550 , epoch is 97 , acc is tensor(0.8256, device='cuda:0') , loss is 0.58358115\n",
      "sample complexity is 1964020 , epoch is 98 , acc is tensor(0.8253, device='cuda:0') , loss is 0.58314264\n",
      "sample complexity is 1982490 , epoch is 99 , acc is tensor(0.8254, device='cuda:0') , loss is 0.5827342\n",
      "sample complexity is 2000960 , epoch is 100 , acc is tensor(0.8255, device='cuda:0') , loss is 0.58232075\n",
      "sample complexity is 2037900 , epoch is 101 , acc is tensor(0.8218, device='cuda:0') , loss is 0.5813878\n",
      "sample complexity is 2056370 , epoch is 102 , acc is tensor(0.8224, device='cuda:0') , loss is 0.58106565\n",
      "sample complexity is 2074840 , epoch is 103 , acc is tensor(0.8241, device='cuda:0') , loss is 0.5806094\n",
      "sample complexity is 2093310 , epoch is 104 , acc is tensor(0.8254, device='cuda:0') , loss is 0.5801991\n",
      "sample complexity is 2111780 , epoch is 105 , acc is tensor(0.8264, device='cuda:0') , loss is 0.57978636\n",
      "sample complexity is 2130250 , epoch is 106 , acc is tensor(0.8219, device='cuda:0') , loss is 0.5796105\n",
      "sample complexity is 2148720 , epoch is 107 , acc is tensor(0.8249, device='cuda:0') , loss is 0.5792112\n",
      "sample complexity is 2167190 , epoch is 108 , acc is tensor(0.8225, device='cuda:0') , loss is 0.5786621\n",
      "sample complexity is 2185660 , epoch is 109 , acc is tensor(0.8253, device='cuda:0') , loss is 0.5784643\n",
      "sample complexity is 2204130 , epoch is 110 , acc is tensor(0.8259, device='cuda:0') , loss is 0.57800347\n",
      "sample complexity is 2222600 , epoch is 111 , acc is tensor(0.8229, device='cuda:0') , loss is 0.5777323\n",
      "sample complexity is 2241070 , epoch is 112 , acc is tensor(0.8254, device='cuda:0') , loss is 0.57726777\n"
     ]
    },
    {
     "ename": "KeyboardInterrupt",
     "evalue": "",
     "output_type": "error",
     "traceback": [
      "\u001b[1;31m---------------------------------------------------------------------------\u001b[0m",
      "\u001b[1;31mKeyboardInterrupt\u001b[0m                         Traceback (most recent call last)",
      "\u001b[1;32m~\\AppData\\Local\\Temp/ipykernel_2524/1449339501.py\u001b[0m in \u001b[0;36m<module>\u001b[1;34m\u001b[0m\n\u001b[0;32m      3\u001b[0m \u001b[0mtorch\u001b[0m\u001b[1;33m.\u001b[0m\u001b[0mmanual_seed\u001b[0m\u001b[1;33m(\u001b[0m\u001b[1;36m2\u001b[0m\u001b[1;33m)\u001b[0m\u001b[1;33m\u001b[0m\u001b[1;33m\u001b[0m\u001b[0m\n\u001b[0;32m      4\u001b[0m \u001b[1;32mfrom\u001b[0m \u001b[0malgorithms\u001b[0m \u001b[1;32mimport\u001b[0m \u001b[0mSAPD_VR\u001b[0m\u001b[1;33m\u001b[0m\u001b[1;33m\u001b[0m\u001b[0m\n\u001b[1;32m----> 5\u001b[1;33m SAPD_VR(train_set = train_set,data_name = data_name,\n\u001b[0m\u001b[0;32m      6\u001b[0m       \u001b[0mmax_epoch\u001b[0m\u001b[1;33m=\u001b[0m\u001b[0mmax_epoch\u001b[0m\u001b[1;33m,\u001b[0m\u001b[0mepoch_numer\u001b[0m\u001b[1;33m=\u001b[0m\u001b[0mepoch_number\u001b[0m\u001b[1;33m,\u001b[0m\u001b[1;33m\u001b[0m\u001b[1;33m\u001b[0m\u001b[0m\n\u001b[0;32m      7\u001b[0m       \u001b[0mb\u001b[0m \u001b[1;33m=\u001b[0m \u001b[0mb\u001b[0m\u001b[1;33m,\u001b[0m \u001b[0mb_1\u001b[0m \u001b[1;33m=\u001b[0m \u001b[0mb_1\u001b[0m\u001b[1;33m,\u001b[0m \u001b[0mq\u001b[0m \u001b[1;33m=\u001b[0m \u001b[0mq\u001b[0m\u001b[1;33m,\u001b[0m\u001b[0mmu_x\u001b[0m \u001b[1;33m=\u001b[0m \u001b[1;36m0.001\u001b[0m\u001b[1;33m,\u001b[0m\u001b[1;33m\u001b[0m\u001b[1;33m\u001b[0m\u001b[0m\n",
      "\u001b[1;32mc:\\Users\\Xuan\\d2l-en\\NIPS2022\\Experiment2_Logistic_regression\\algorithms.py\u001b[0m in \u001b[0;36mSAPD_VR\u001b[1;34m(train_set, data_name, lr_x, lr_y, theta0, rho, eta, theta_rate, mu_y, mu_x, b, b_1, q, m, sim_time, max_epoch, epoch_numer, is_show_result, is_save_data, device)\u001b[0m\n\u001b[0;32m    282\u001b[0m                     \u001b[1;31m#compute the primal gradient of x_k-1,y_k\u001b[0m\u001b[1;33m\u001b[0m\u001b[1;33m\u001b[0m\u001b[0m\n\u001b[0;32m    283\u001b[0m                     \u001b[0mpre_test1_primal\u001b[0m\u001b[1;33m.\u001b[0m\u001b[0mzero_grad\u001b[0m\u001b[1;33m(\u001b[0m\u001b[1;33m)\u001b[0m\u001b[1;33m\u001b[0m\u001b[1;33m\u001b[0m\u001b[0m\n\u001b[1;32m--> 284\u001b[1;33m                     \u001b[0mpre_test1_primal\u001b[0m\u001b[1;33m.\u001b[0m\u001b[0mloss\u001b[0m\u001b[1;33m(\u001b[0m\u001b[0mpre_test1_primal\u001b[0m\u001b[1;33m.\u001b[0m\u001b[0mforward\u001b[0m\u001b[1;33m(\u001b[0m\u001b[0mdata\u001b[0m\u001b[1;33m)\u001b[0m\u001b[1;33m,\u001b[0m\u001b[0mbatch_index\u001b[0m\u001b[1;33m,\u001b[0m\u001b[0mtarget\u001b[0m\u001b[1;33m)\u001b[0m\u001b[1;33m.\u001b[0m\u001b[0mbackward\u001b[0m\u001b[1;33m(\u001b[0m\u001b[1;33m)\u001b[0m\u001b[1;33m\u001b[0m\u001b[1;33m\u001b[0m\u001b[0m\n\u001b[0m\u001b[0;32m    285\u001b[0m \u001b[1;33m\u001b[0m\u001b[0m\n\u001b[0;32m    286\u001b[0m                     \u001b[0mtemp\u001b[0m \u001b[1;33m=\u001b[0m \u001b[1;33m[\u001b[0m\u001b[1;33m]\u001b[0m\u001b[1;33m\u001b[0m\u001b[1;33m\u001b[0m\u001b[0m\n",
      "\u001b[1;32mc:\\Users\\Xuan\\d2l-en\\NIPS2022\\Experiment2_Logistic_regression\\model.py\u001b[0m in \u001b[0;36mloss\u001b[1;34m(self, input, idx, target)\u001b[0m\n\u001b[0;32m     43\u001b[0m         \u001b[0mweight_y\u001b[0m \u001b[1;33m=\u001b[0m \u001b[0mtorch\u001b[0m\u001b[1;33m.\u001b[0m\u001b[0mindex_select\u001b[0m\u001b[1;33m(\u001b[0m\u001b[0mself\u001b[0m\u001b[1;33m.\u001b[0m\u001b[0mvariable_y\u001b[0m\u001b[1;33m,\u001b[0m\u001b[1;36m0\u001b[0m\u001b[1;33m,\u001b[0m\u001b[0mindex\u001b[0m\u001b[1;33m=\u001b[0m\u001b[0midx\u001b[0m\u001b[1;33m)\u001b[0m\u001b[1;33m\u001b[0m\u001b[1;33m\u001b[0m\u001b[0m\n\u001b[0;32m     44\u001b[0m \u001b[1;33m\u001b[0m\u001b[0m\n\u001b[1;32m---> 45\u001b[1;33m         \u001b[1;32mreturn\u001b[0m \u001b[1;36m1\u001b[0m\u001b[1;33m/\u001b[0m\u001b[0msize\u001b[0m\u001b[1;33m*\u001b[0m\u001b[0mtorch\u001b[0m\u001b[1;33m.\u001b[0m\u001b[0msum\u001b[0m\u001b[1;33m(\u001b[0m\u001b[0mlogistic_loss\u001b[0m\u001b[1;33m*\u001b[0m\u001b[0mweight_y\u001b[0m\u001b[1;33m)\u001b[0m \u001b[1;33m+\u001b[0m \u001b[0mregularizer_x\u001b[0m \u001b[1;33m-\u001b[0m \u001b[0mregularizer_y\u001b[0m\u001b[1;33m\u001b[0m\u001b[1;33m\u001b[0m\u001b[0m\n\u001b[0m\u001b[0;32m     46\u001b[0m \u001b[1;33m\u001b[0m\u001b[0m\n\u001b[0;32m     47\u001b[0m \u001b[1;33m\u001b[0m\u001b[0m\n",
      "\u001b[1;31mKeyboardInterrupt\u001b[0m: "
     ]
    }
   ],
   "source": [
    "b,b_1,q = 3000,10,10\n",
    "max_epoch = 10000\n",
    "torch.manual_seed(2)\n",
    "from algorithms import SAPD_VR\n",
    "SAPD_VR(train_set = train_set,data_name = data_name,\n",
    "      max_epoch=max_epoch,epoch_numer=epoch_number,\n",
    "      b = b, b_1 = b_1, q = q,mu_x = 0.001,\n",
    "       lr_x=1, lr_y = 0.0001, theta0=0.8, theta_rate= 1.001,sim_time=sim_time,\n",
    "       is_save_data=True, is_show_result=True)"
   ]
  },
  {
   "cell_type": "markdown",
   "metadata": {},
   "source": [
    "SMDA Algorithm"
   ]
  },
  {
   "cell_type": "code",
   "execution_count": 31,
   "metadata": {},
   "outputs": [
    {
     "name": "stdout",
     "output_type": "stream",
     "text": [
      "sample complexity is 20000 , epoch is 1 , acc is tensor(0.5230, device='cuda:0') , loss is 0.69313127\n",
      "sample complexity is 40000 , epoch is 2 , acc is tensor(0.5402, device='cuda:0') , loss is 0.69313484\n",
      "sample complexity is 60000 , epoch is 3 , acc is tensor(0.6424, device='cuda:0') , loss is 0.69314945\n",
      "sample complexity is 80000 , epoch is 4 , acc is tensor(0.8442, device='cuda:0') , loss is 0.69314855\n",
      "sample complexity is 100000 , epoch is 5 , acc is tensor(0.9094, device='cuda:0') , loss is 0.6931473\n",
      "sample complexity is 120000 , epoch is 6 , acc is tensor(0.8994, device='cuda:0') , loss is 0.6931463\n",
      "sample complexity is 140000 , epoch is 7 , acc is tensor(0.9077, device='cuda:0') , loss is 0.6931386\n",
      "sample complexity is 160000 , epoch is 8 , acc is tensor(0.9101, device='cuda:0') , loss is 0.69313955\n",
      "sample complexity is 180000 , epoch is 9 , acc is tensor(0.8691, device='cuda:0') , loss is 0.6931462\n",
      "sample complexity is 200000 , epoch is 10 , acc is tensor(0.8907, device='cuda:0') , loss is 0.693142\n",
      "sample complexity is 220000 , epoch is 11 , acc is tensor(0.9173, device='cuda:0') , loss is 0.6931394\n",
      "sample complexity is 240000 , epoch is 12 , acc is tensor(0.9144, device='cuda:0') , loss is 0.6931425\n",
      "sample complexity is 260000 , epoch is 13 , acc is tensor(0.9003, device='cuda:0') , loss is 0.6931391\n",
      "sample complexity is 280000 , epoch is 14 , acc is tensor(0.9114, device='cuda:0') , loss is 0.6931336\n",
      "sample complexity is 300000 , epoch is 15 , acc is tensor(0.8985, device='cuda:0') , loss is 0.69313586\n",
      "sample complexity is 320000 , epoch is 16 , acc is tensor(0.9120, device='cuda:0') , loss is 0.69313323\n",
      "sample complexity is 340000 , epoch is 17 , acc is tensor(0.9110, device='cuda:0') , loss is 0.6931328\n",
      "sample complexity is 360000 , epoch is 18 , acc is tensor(0.9142, device='cuda:0') , loss is 0.6931356\n",
      "sample complexity is 380000 , epoch is 19 , acc is tensor(0.8996, device='cuda:0') , loss is 0.69314575\n"
     ]
    },
    {
     "ename": "KeyboardInterrupt",
     "evalue": "",
     "output_type": "error",
     "traceback": [
      "\u001b[1;31m---------------------------------------------------------------------------\u001b[0m",
      "\u001b[1;31mKeyboardInterrupt\u001b[0m                         Traceback (most recent call last)",
      "\u001b[1;32m~\\AppData\\Local\\Temp/ipykernel_11280/1167430434.py\u001b[0m in \u001b[0;36m<module>\u001b[1;34m\u001b[0m\n\u001b[0;32m      3\u001b[0m \u001b[0mtorch\u001b[0m\u001b[1;33m.\u001b[0m\u001b[0mmanual_seed\u001b[0m\u001b[1;33m(\u001b[0m\u001b[1;36m2\u001b[0m\u001b[1;33m)\u001b[0m\u001b[1;33m\u001b[0m\u001b[1;33m\u001b[0m\u001b[0m\n\u001b[0;32m      4\u001b[0m \u001b[1;32mfrom\u001b[0m \u001b[0malgorithms\u001b[0m \u001b[1;32mimport\u001b[0m \u001b[0mSMDA\u001b[0m\u001b[1;33m\u001b[0m\u001b[1;33m\u001b[0m\u001b[0m\n\u001b[1;32m----> 5\u001b[1;33m SMDA(train_set = train_set,data_name = data_name,\n\u001b[0m\u001b[0;32m      6\u001b[0m       \u001b[0mmax_epoch\u001b[0m\u001b[1;33m=\u001b[0m\u001b[0mmax_epoch\u001b[0m\u001b[1;33m,\u001b[0m\u001b[0mepoch_numer\u001b[0m\u001b[1;33m=\u001b[0m\u001b[0mepoch_number\u001b[0m\u001b[1;33m,\u001b[0m\u001b[1;33m\u001b[0m\u001b[1;33m\u001b[0m\u001b[0m\n\u001b[0;32m      7\u001b[0m       \u001b[0mb\u001b[0m \u001b[1;33m=\u001b[0m \u001b[0mb\u001b[0m\u001b[1;33m,\u001b[0m \u001b[0mb_1\u001b[0m \u001b[1;33m=\u001b[0m \u001b[0mb_1\u001b[0m\u001b[1;33m,\u001b[0m \u001b[0mq\u001b[0m \u001b[1;33m=\u001b[0m \u001b[0mq\u001b[0m\u001b[1;33m,\u001b[0m\u001b[0msim_time\u001b[0m\u001b[1;33m=\u001b[0m\u001b[0msim_time\u001b[0m\u001b[1;33m,\u001b[0m\u001b[1;33m\u001b[0m\u001b[1;33m\u001b[0m\u001b[0m\n",
      "\u001b[1;32mc:\\Users\\Xuan\\d2l-en\\NIPS2022\\Experiment2_Logistic_regression\\algorithms.py\u001b[0m in \u001b[0;36mSMDA\u001b[1;34m(train_set, data_name, lr_x, lr_y, theta0, rho, eta, alpha, mu_y, mu_x, b, b_1, q, m, sim_time, max_epoch, epoch_numer, is_show_result, is_save_data, device)\u001b[0m\n\u001b[0;32m    443\u001b[0m                 \u001b[0mcpu_test\u001b[0m\u001b[1;33m.\u001b[0m\u001b[0mload_state_dict\u001b[0m\u001b[1;33m(\u001b[0m\u001b[0mcopy\u001b[0m\u001b[1;33m.\u001b[0m\u001b[0mdeepcopy\u001b[0m\u001b[1;33m(\u001b[0m\u001b[0mtest1\u001b[0m\u001b[1;33m.\u001b[0m\u001b[0mstate_dict\u001b[0m\u001b[1;33m(\u001b[0m\u001b[1;33m)\u001b[0m\u001b[1;33m)\u001b[0m\u001b[1;33m)\u001b[0m\u001b[1;33m\u001b[0m\u001b[1;33m\u001b[0m\u001b[0m\n\u001b[0;32m    444\u001b[0m \u001b[1;33m\u001b[0m\u001b[0m\n\u001b[1;32m--> 445\u001b[1;33m                 \u001b[0mrecord_SMDA_sub\u001b[0m\u001b[1;33m.\u001b[0m\u001b[0mappend\u001b[0m\u001b[1;33m(\u001b[0m\u001b[0mcpu_test\u001b[0m\u001b[1;33m.\u001b[0m\u001b[0mtestloss\u001b[0m\u001b[1;33m(\u001b[0m\u001b[0mcpu_test\u001b[0m\u001b[1;33m.\u001b[0m\u001b[0mforward\u001b[0m\u001b[1;33m(\u001b[0m\u001b[0mtrain_set\u001b[0m\u001b[1;33m.\u001b[0m\u001b[0mdata\u001b[0m\u001b[1;33m.\u001b[0m\u001b[0mto\u001b[0m\u001b[1;33m(\u001b[0m\u001b[1;34m'cpu'\u001b[0m\u001b[1;33m)\u001b[0m\u001b[1;33m)\u001b[0m\u001b[1;33m,\u001b[0m\u001b[0mfull_batch\u001b[0m\u001b[1;33m.\u001b[0m\u001b[0mto\u001b[0m\u001b[1;33m(\u001b[0m\u001b[1;34m'cpu'\u001b[0m\u001b[1;33m)\u001b[0m\u001b[1;33m,\u001b[0m\u001b[0mtrain_set\u001b[0m\u001b[1;33m.\u001b[0m\u001b[0mtargets\u001b[0m\u001b[1;33m.\u001b[0m\u001b[0mto\u001b[0m\u001b[1;33m(\u001b[0m\u001b[1;34m'cpu'\u001b[0m\u001b[1;33m)\u001b[0m\u001b[1;33m)\u001b[0m\u001b[1;33m.\u001b[0m\u001b[0mdetach\u001b[0m\u001b[1;33m(\u001b[0m\u001b[1;33m)\u001b[0m\u001b[1;33m.\u001b[0m\u001b[0mnumpy\u001b[0m\u001b[1;33m(\u001b[0m\u001b[1;33m)\u001b[0m\u001b[1;33m)\u001b[0m\u001b[1;33m\u001b[0m\u001b[1;33m\u001b[0m\u001b[0m\n\u001b[0m\u001b[0;32m    446\u001b[0m                 \u001b[0macc\u001b[0m\u001b[1;33m.\u001b[0m\u001b[0mappend\u001b[0m\u001b[1;33m(\u001b[0m\u001b[0mtorch\u001b[0m\u001b[1;33m.\u001b[0m\u001b[0msum\u001b[0m\u001b[1;33m(\u001b[0m\u001b[0mtest1\u001b[0m\u001b[1;33m.\u001b[0m\u001b[0mpredict\u001b[0m\u001b[1;33m(\u001b[0m\u001b[0mtrain_set\u001b[0m\u001b[1;33m.\u001b[0m\u001b[0mdata\u001b[0m\u001b[1;33m)\u001b[0m\u001b[1;33m==\u001b[0m\u001b[0mtrain_set\u001b[0m\u001b[1;33m.\u001b[0m\u001b[0mtargets\u001b[0m\u001b[1;33m)\u001b[0m\u001b[1;33m/\u001b[0m\u001b[0mlen\u001b[0m\u001b[1;33m(\u001b[0m\u001b[0mtrain_set\u001b[0m\u001b[1;33m.\u001b[0m\u001b[0mdata\u001b[0m\u001b[1;33m)\u001b[0m\u001b[1;33m)\u001b[0m\u001b[1;33m\u001b[0m\u001b[1;33m\u001b[0m\u001b[0m\n\u001b[0;32m    447\u001b[0m                 \u001b[1;32mif\u001b[0m \u001b[0mis_show_result\u001b[0m\u001b[1;33m:\u001b[0m\u001b[1;33m\u001b[0m\u001b[1;33m\u001b[0m\u001b[0m\n",
      "\u001b[1;31mKeyboardInterrupt\u001b[0m: "
     ]
    }
   ],
   "source": [
    "\n",
    "max_epoch = 100\n",
    "b = 200\n",
    "torch.manual_seed(2)\n",
    "from algorithms import SMDA\n",
    "SMDA(train_set = train_set,data_name = data_name,\n",
    "      max_epoch=max_epoch,epoch_numer=epoch_number,\n",
    "      b = b, b_1 = b_1, q = q,sim_time=sim_time,\n",
    "       lr_x=1, lr_y = 0.01, \n",
    "       is_save_data=True, is_show_result=True)"
   ]
  },
  {
   "cell_type": "markdown",
   "metadata": {},
   "source": [
    "SMDA Variance Reduction Method"
   ]
  },
  {
   "cell_type": "code",
   "execution_count": 7,
   "metadata": {},
   "outputs": [
    {
     "name": "stdout",
     "output_type": "stream",
     "text": [
      "sample complexity is 21540 , epoch is 1 , acc is tensor(0.5219, device='cuda:0') , loss is 0.69295573\n",
      "sample complexity is 40080 , epoch is 2 , acc is tensor(0.5219, device='cuda:0') , loss is 0.6929504\n",
      "sample complexity is 61710 , epoch is 3 , acc is tensor(0.5219, device='cuda:0') , loss is 0.6929846\n",
      "sample complexity is 80250 , epoch is 4 , acc is tensor(0.5219, device='cuda:0') , loss is 0.69295436\n",
      "sample complexity is 101880 , epoch is 5 , acc is tensor(0.5219, device='cuda:0') , loss is 0.6929511\n"
     ]
    },
    {
     "ename": "KeyboardInterrupt",
     "evalue": "",
     "output_type": "error",
     "traceback": [
      "\u001b[1;31m---------------------------------------------------------------------------\u001b[0m",
      "\u001b[1;31mKeyboardInterrupt\u001b[0m                         Traceback (most recent call last)",
      "\u001b[1;32m~\\AppData\\Local\\Temp/ipykernel_21164/3571202261.py\u001b[0m in \u001b[0;36m<module>\u001b[1;34m\u001b[0m\n\u001b[0;32m      2\u001b[0m \u001b[0mtorch\u001b[0m\u001b[1;33m.\u001b[0m\u001b[0mmanual_seed\u001b[0m\u001b[1;33m(\u001b[0m\u001b[1;36m2\u001b[0m\u001b[1;33m)\u001b[0m\u001b[1;33m\u001b[0m\u001b[1;33m\u001b[0m\u001b[0m\n\u001b[0;32m      3\u001b[0m \u001b[1;32mfrom\u001b[0m \u001b[0malgorithms\u001b[0m \u001b[1;32mimport\u001b[0m \u001b[0mSMDA_VR\u001b[0m\u001b[1;33m\u001b[0m\u001b[1;33m\u001b[0m\u001b[0m\n\u001b[1;32m----> 4\u001b[1;33m SMDA_VR(train_set = train_set,data_name = data_name,\n\u001b[0m\u001b[0;32m      5\u001b[0m       \u001b[0mmax_epoch\u001b[0m\u001b[1;33m=\u001b[0m\u001b[0mmax_epoch\u001b[0m\u001b[1;33m,\u001b[0m\u001b[0mepoch_numer\u001b[0m\u001b[1;33m=\u001b[0m\u001b[0mepoch_number\u001b[0m\u001b[1;33m,\u001b[0m\u001b[1;33m\u001b[0m\u001b[1;33m\u001b[0m\u001b[0m\n\u001b[0;32m      6\u001b[0m       \u001b[0mb\u001b[0m \u001b[1;33m=\u001b[0m \u001b[0mb\u001b[0m\u001b[1;33m,\u001b[0m \u001b[0mb_1\u001b[0m \u001b[1;33m=\u001b[0m \u001b[0mb_1\u001b[0m\u001b[1;33m,\u001b[0m \u001b[0mq\u001b[0m \u001b[1;33m=\u001b[0m \u001b[0mq\u001b[0m\u001b[1;33m,\u001b[0m\u001b[0msim_time\u001b[0m\u001b[1;33m=\u001b[0m\u001b[0msim_time\u001b[0m\u001b[1;33m,\u001b[0m\u001b[1;33m\u001b[0m\u001b[1;33m\u001b[0m\u001b[0m\n",
      "\u001b[1;32mc:\\Users\\Xuan\\d2l-en\\NIPS2022\\Experiment2_Logistic_regression\\algorithms.py\u001b[0m in \u001b[0;36mSMDA_VR\u001b[1;34m(train_set, data_name, lr_x, lr_y, theta0, rho, eta, alpha, mu_y, mu_x, b, b_1, q, m, sim_time, max_epoch, epoch_numer, is_show_result, is_save_data, device)\u001b[0m\n\u001b[0;32m    589\u001b[0m                 \u001b[0mcpu_test\u001b[0m\u001b[1;33m.\u001b[0m\u001b[0mload_state_dict\u001b[0m\u001b[1;33m(\u001b[0m\u001b[0mcopy\u001b[0m\u001b[1;33m.\u001b[0m\u001b[0mdeepcopy\u001b[0m\u001b[1;33m(\u001b[0m\u001b[0mtest1\u001b[0m\u001b[1;33m.\u001b[0m\u001b[0mstate_dict\u001b[0m\u001b[1;33m(\u001b[0m\u001b[1;33m)\u001b[0m\u001b[1;33m)\u001b[0m\u001b[1;33m)\u001b[0m\u001b[1;33m\u001b[0m\u001b[1;33m\u001b[0m\u001b[0m\n\u001b[0;32m    590\u001b[0m \u001b[1;33m\u001b[0m\u001b[0m\n\u001b[1;32m--> 591\u001b[1;33m                 \u001b[0mrecord_SMDA_VR_sub\u001b[0m\u001b[1;33m.\u001b[0m\u001b[0mappend\u001b[0m\u001b[1;33m(\u001b[0m\u001b[0mcpu_test\u001b[0m\u001b[1;33m.\u001b[0m\u001b[0mtestloss\u001b[0m\u001b[1;33m(\u001b[0m\u001b[0mcpu_test\u001b[0m\u001b[1;33m.\u001b[0m\u001b[0mforward\u001b[0m\u001b[1;33m(\u001b[0m\u001b[0mtrain_set\u001b[0m\u001b[1;33m.\u001b[0m\u001b[0mdata\u001b[0m\u001b[1;33m.\u001b[0m\u001b[0mto\u001b[0m\u001b[1;33m(\u001b[0m\u001b[1;34m'cpu'\u001b[0m\u001b[1;33m)\u001b[0m\u001b[1;33m)\u001b[0m\u001b[1;33m,\u001b[0m\u001b[0mfull_batch\u001b[0m\u001b[1;33m.\u001b[0m\u001b[0mto\u001b[0m\u001b[1;33m(\u001b[0m\u001b[1;34m'cpu'\u001b[0m\u001b[1;33m)\u001b[0m\u001b[1;33m,\u001b[0m\u001b[0mtrain_set\u001b[0m\u001b[1;33m.\u001b[0m\u001b[0mtargets\u001b[0m\u001b[1;33m.\u001b[0m\u001b[0mto\u001b[0m\u001b[1;33m(\u001b[0m\u001b[1;34m'cpu'\u001b[0m\u001b[1;33m)\u001b[0m\u001b[1;33m)\u001b[0m\u001b[1;33m.\u001b[0m\u001b[0mdetach\u001b[0m\u001b[1;33m(\u001b[0m\u001b[1;33m)\u001b[0m\u001b[1;33m.\u001b[0m\u001b[0mnumpy\u001b[0m\u001b[1;33m(\u001b[0m\u001b[1;33m)\u001b[0m\u001b[1;33m)\u001b[0m\u001b[1;33m\u001b[0m\u001b[1;33m\u001b[0m\u001b[0m\n\u001b[0m\u001b[0;32m    592\u001b[0m                 \u001b[0macc\u001b[0m\u001b[1;33m.\u001b[0m\u001b[0mappend\u001b[0m\u001b[1;33m(\u001b[0m\u001b[0mtorch\u001b[0m\u001b[1;33m.\u001b[0m\u001b[0msum\u001b[0m\u001b[1;33m(\u001b[0m\u001b[0mtest1\u001b[0m\u001b[1;33m.\u001b[0m\u001b[0mpredict\u001b[0m\u001b[1;33m(\u001b[0m\u001b[0mtrain_set\u001b[0m\u001b[1;33m.\u001b[0m\u001b[0mdata\u001b[0m\u001b[1;33m)\u001b[0m\u001b[1;33m==\u001b[0m\u001b[0mtrain_set\u001b[0m\u001b[1;33m.\u001b[0m\u001b[0mtargets\u001b[0m\u001b[1;33m)\u001b[0m\u001b[1;33m/\u001b[0m\u001b[0mlen\u001b[0m\u001b[1;33m(\u001b[0m\u001b[0mtrain_set\u001b[0m\u001b[1;33m.\u001b[0m\u001b[0mdata\u001b[0m\u001b[1;33m)\u001b[0m\u001b[1;33m)\u001b[0m\u001b[1;33m\u001b[0m\u001b[1;33m\u001b[0m\u001b[0m\n\u001b[0;32m    593\u001b[0m                 \u001b[0mprint\u001b[0m\u001b[1;33m(\u001b[0m\u001b[1;34m'sample complexity is'\u001b[0m\u001b[1;33m,\u001b[0m \u001b[0msample_comlexity\u001b[0m\u001b[1;33m,\u001b[0m \u001b[1;34m', epoch is'\u001b[0m\u001b[1;33m,\u001b[0m \u001b[0mepoch\u001b[0m\u001b[1;33m,\u001b[0m \u001b[1;34m', acc is'\u001b[0m\u001b[1;33m,\u001b[0m \u001b[0macc\u001b[0m\u001b[1;33m[\u001b[0m\u001b[1;33m-\u001b[0m\u001b[1;36m1\u001b[0m\u001b[1;33m]\u001b[0m\u001b[1;33m,\u001b[0m \u001b[1;34m', loss is'\u001b[0m\u001b[1;33m,\u001b[0m \u001b[0mrecord_SMDA_VR_sub\u001b[0m\u001b[1;33m[\u001b[0m\u001b[1;33m-\u001b[0m\u001b[1;36m1\u001b[0m\u001b[1;33m]\u001b[0m\u001b[1;33m)\u001b[0m\u001b[1;33m\u001b[0m\u001b[1;33m\u001b[0m\u001b[0m\n",
      "\u001b[1;31mKeyboardInterrupt\u001b[0m: "
     ]
    }
   ],
   "source": [
    "b,b_1,q = 3000,10,10\n",
    "torch.manual_seed(2)\n",
    "from algorithms import SMDA_VR\n",
    "SMDA_VR(train_set = train_set,data_name = data_name,\n",
    "      max_epoch=max_epoch,epoch_numer=epoch_number,\n",
    "      b = b, b_1 = b_1, q = q,sim_time=sim_time,\n",
    "       lr_x=0.1, lr_y = 0.0001,rho = 1,\n",
    "       is_save_data=True, is_show_result=True)"
   ]
  },
  {
   "cell_type": "markdown",
   "metadata": {},
   "source": [
    "PASDA"
   ]
  },
  {
   "cell_type": "code",
   "execution_count": 8,
   "metadata": {},
   "outputs": [
    {
     "name": "stdout",
     "output_type": "stream",
     "text": [
      "sample complexity is 20000 , epoch is 1 , acc is tensor(0.5229, device='cuda:0') , loss is 0.6933605\n",
      "sample complexity is 40000 , epoch is 2 , acc is tensor(0.5381, device='cuda:0') , loss is 0.69291794\n",
      "sample complexity is 60000 , epoch is 3 , acc is tensor(0.5958, device='cuda:0') , loss is 0.6933098\n",
      "sample complexity is 80000 , epoch is 4 , acc is tensor(0.5958, device='cuda:0') , loss is 0.6930388\n",
      "sample complexity is 100000 , epoch is 5 , acc is tensor(0.8869, device='cuda:0') , loss is 0.693393\n",
      "sample complexity is 120000 , epoch is 6 , acc is tensor(0.8844, device='cuda:0') , loss is 0.6932834\n",
      "sample complexity is 140000 , epoch is 7 , acc is tensor(0.9064, device='cuda:0') , loss is 0.69330937\n"
     ]
    },
    {
     "ename": "KeyboardInterrupt",
     "evalue": "",
     "output_type": "error",
     "traceback": [
      "\u001b[1;31m---------------------------------------------------------------------------\u001b[0m",
      "\u001b[1;31mKeyboardInterrupt\u001b[0m                         Traceback (most recent call last)",
      "\u001b[1;32m~\\AppData\\Local\\Temp/ipykernel_21164/2775894584.py\u001b[0m in \u001b[0;36m<module>\u001b[1;34m\u001b[0m\n\u001b[0;32m      6\u001b[0m \u001b[1;32mfrom\u001b[0m \u001b[0malgorithms\u001b[0m \u001b[1;32mimport\u001b[0m \u001b[0mPASGD\u001b[0m\u001b[1;33m\u001b[0m\u001b[1;33m\u001b[0m\u001b[0m\n\u001b[0;32m      7\u001b[0m \u001b[1;31m#: best choice lr_x = 0.1, lr_y =0.1, just as large as possible for single loop SGDA type\u001b[0m\u001b[1;33m\u001b[0m\u001b[1;33m\u001b[0m\u001b[0m\n\u001b[1;32m----> 8\u001b[1;33m PASGD(train_set = train_set,data_name = data_name, \n\u001b[0m\u001b[0;32m      9\u001b[0m       \u001b[0mmax_epoch\u001b[0m\u001b[1;33m=\u001b[0m\u001b[0mmax_epoch\u001b[0m\u001b[1;33m,\u001b[0m\u001b[0mepoch_numer\u001b[0m\u001b[1;33m=\u001b[0m\u001b[0mepoch_number\u001b[0m\u001b[1;33m,\u001b[0m\u001b[1;33m\u001b[0m\u001b[1;33m\u001b[0m\u001b[0m\n\u001b[0;32m     10\u001b[0m       \u001b[0mb\u001b[0m \u001b[1;33m=\u001b[0m \u001b[0mb\u001b[0m\u001b[1;33m,\u001b[0m \u001b[0mb_1\u001b[0m \u001b[1;33m=\u001b[0m \u001b[0mb_1\u001b[0m\u001b[1;33m,\u001b[0m \u001b[0mq\u001b[0m \u001b[1;33m=\u001b[0m \u001b[0mq\u001b[0m\u001b[1;33m,\u001b[0m\u001b[0msim_time\u001b[0m\u001b[1;33m=\u001b[0m\u001b[0msim_time\u001b[0m\u001b[1;33m,\u001b[0m\u001b[1;33m\u001b[0m\u001b[1;33m\u001b[0m\u001b[0m\n",
      "\u001b[1;32mc:\\Users\\Xuan\\d2l-en\\NIPS2022\\Experiment2_Logistic_regression\\algorithms.py\u001b[0m in \u001b[0;36mPASGD\u001b[1;34m(train_set, data_name, lr_x, lr_y, theta0, rho, eta, alpha, mu_y, mu_x, b, b_1, q, m, sim_time, max_epoch, epoch_numer, is_show_result, is_save_data, device)\u001b[0m\n\u001b[0;32m    684\u001b[0m                 \u001b[0mcpu_test\u001b[0m\u001b[1;33m.\u001b[0m\u001b[0mload_state_dict\u001b[0m\u001b[1;33m(\u001b[0m\u001b[0mcopy\u001b[0m\u001b[1;33m.\u001b[0m\u001b[0mdeepcopy\u001b[0m\u001b[1;33m(\u001b[0m\u001b[0mtest1\u001b[0m\u001b[1;33m.\u001b[0m\u001b[0mstate_dict\u001b[0m\u001b[1;33m(\u001b[0m\u001b[1;33m)\u001b[0m\u001b[1;33m)\u001b[0m\u001b[1;33m)\u001b[0m\u001b[1;33m\u001b[0m\u001b[1;33m\u001b[0m\u001b[0m\n\u001b[0;32m    685\u001b[0m \u001b[1;33m\u001b[0m\u001b[0m\n\u001b[1;32m--> 686\u001b[1;33m                 \u001b[0mrecord_PASGDA_sub\u001b[0m\u001b[1;33m.\u001b[0m\u001b[0mappend\u001b[0m\u001b[1;33m(\u001b[0m\u001b[0mcpu_test\u001b[0m\u001b[1;33m.\u001b[0m\u001b[0mtestloss\u001b[0m\u001b[1;33m(\u001b[0m\u001b[0mcpu_test\u001b[0m\u001b[1;33m.\u001b[0m\u001b[0mforward\u001b[0m\u001b[1;33m(\u001b[0m\u001b[0mtrain_set\u001b[0m\u001b[1;33m.\u001b[0m\u001b[0mdata\u001b[0m\u001b[1;33m.\u001b[0m\u001b[0mto\u001b[0m\u001b[1;33m(\u001b[0m\u001b[1;34m'cpu'\u001b[0m\u001b[1;33m)\u001b[0m\u001b[1;33m)\u001b[0m\u001b[1;33m,\u001b[0m\u001b[0mfull_batch\u001b[0m\u001b[1;33m.\u001b[0m\u001b[0mto\u001b[0m\u001b[1;33m(\u001b[0m\u001b[1;34m'cpu'\u001b[0m\u001b[1;33m)\u001b[0m\u001b[1;33m,\u001b[0m\u001b[0mtrain_set\u001b[0m\u001b[1;33m.\u001b[0m\u001b[0mtargets\u001b[0m\u001b[1;33m.\u001b[0m\u001b[0mto\u001b[0m\u001b[1;33m(\u001b[0m\u001b[1;34m'cpu'\u001b[0m\u001b[1;33m)\u001b[0m\u001b[1;33m)\u001b[0m\u001b[1;33m.\u001b[0m\u001b[0mdetach\u001b[0m\u001b[1;33m(\u001b[0m\u001b[1;33m)\u001b[0m\u001b[1;33m.\u001b[0m\u001b[0mnumpy\u001b[0m\u001b[1;33m(\u001b[0m\u001b[1;33m)\u001b[0m\u001b[1;33m)\u001b[0m\u001b[1;33m\u001b[0m\u001b[1;33m\u001b[0m\u001b[0m\n\u001b[0m\u001b[0;32m    687\u001b[0m                 \u001b[0macc\u001b[0m\u001b[1;33m.\u001b[0m\u001b[0mappend\u001b[0m\u001b[1;33m(\u001b[0m\u001b[0mtorch\u001b[0m\u001b[1;33m.\u001b[0m\u001b[0msum\u001b[0m\u001b[1;33m(\u001b[0m\u001b[0mtest1\u001b[0m\u001b[1;33m.\u001b[0m\u001b[0mpredict\u001b[0m\u001b[1;33m(\u001b[0m\u001b[0mtrain_set\u001b[0m\u001b[1;33m.\u001b[0m\u001b[0mdata\u001b[0m\u001b[1;33m)\u001b[0m\u001b[1;33m==\u001b[0m\u001b[0mtrain_set\u001b[0m\u001b[1;33m.\u001b[0m\u001b[0mtargets\u001b[0m\u001b[1;33m)\u001b[0m\u001b[1;33m/\u001b[0m\u001b[0mlen\u001b[0m\u001b[1;33m(\u001b[0m\u001b[0mtrain_set\u001b[0m\u001b[1;33m.\u001b[0m\u001b[0mdata\u001b[0m\u001b[1;33m)\u001b[0m\u001b[1;33m)\u001b[0m\u001b[1;33m\u001b[0m\u001b[1;33m\u001b[0m\u001b[0m\n\u001b[0;32m    688\u001b[0m                 \u001b[1;32mif\u001b[0m \u001b[0mis_show_result\u001b[0m\u001b[1;33m:\u001b[0m\u001b[1;33m\u001b[0m\u001b[1;33m\u001b[0m\u001b[0m\n",
      "\u001b[1;31mKeyboardInterrupt\u001b[0m: "
     ]
    }
   ],
   "source": [
    "# b,b_1,q = 1000,20,20\n",
    "# max_epoch = 50\n",
    "# b = 3000\n",
    "b = 200\n",
    "torch.manual_seed(2)\n",
    "from algorithms import PASGD\n",
    "#: best choice lr_x = 0.1, lr_y =0.1, just as large as possible for single loop SGDA type\n",
    "PASGD(train_set = train_set,data_name = data_name, \n",
    "      max_epoch=max_epoch,epoch_numer=epoch_number,\n",
    "      b = b, b_1 = b_1, q = q,sim_time=sim_time,\n",
    "       lr_x=1, lr_y = 1,\n",
    "       is_save_data=True, is_show_result=True)"
   ]
  },
  {
   "cell_type": "markdown",
   "metadata": {},
   "source": [
    "SREDA"
   ]
  },
  {
   "cell_type": "code",
   "execution_count": 9,
   "metadata": {},
   "outputs": [
    {
     "name": "stdout",
     "output_type": "stream",
     "text": [
      "sample complexity is 20040 , epoch is 1 , acc is tensor(0.6237, device='cuda:0') , loss is 0.6926608\n",
      "sample complexity is 40920 , epoch is 2 , acc is tensor(0.7542, device='cuda:0') , loss is 0.6926539\n",
      "sample complexity is 61920 , epoch is 3 , acc is tensor(0.8734, device='cuda:0') , loss is 0.6926805\n",
      "sample complexity is 82920 , epoch is 4 , acc is tensor(0.9183, device='cuda:0') , loss is 0.69252914\n",
      "sample complexity is 100080 , epoch is 5 , acc is tensor(0.8513, device='cuda:0') , loss is 0.69211185\n",
      "sample complexity is 120720 , epoch is 6 , acc is tensor(0.9087, device='cuda:0') , loss is 0.69223344\n",
      "sample complexity is 141720 , epoch is 7 , acc is tensor(0.9216, device='cuda:0') , loss is 0.692447\n",
      "sample complexity is 162720 , epoch is 8 , acc is tensor(0.9245, device='cuda:0') , loss is 0.6925663\n",
      "sample complexity is 180000 , epoch is 9 , acc is tensor(0.9267, device='cuda:0') , loss is 0.6925146\n"
     ]
    },
    {
     "ename": "KeyboardInterrupt",
     "evalue": "",
     "output_type": "error",
     "traceback": [
      "\u001b[1;31m---------------------------------------------------------------------------\u001b[0m",
      "\u001b[1;31mKeyboardInterrupt\u001b[0m                         Traceback (most recent call last)",
      "\u001b[1;32m~\\AppData\\Local\\Temp/ipykernel_21164/2882868544.py\u001b[0m in \u001b[0;36m<module>\u001b[1;34m\u001b[0m\n\u001b[0;32m      4\u001b[0m \u001b[1;32mfrom\u001b[0m \u001b[0malgorithms\u001b[0m \u001b[1;32mimport\u001b[0m \u001b[0mSREDA\u001b[0m\u001b[1;33m\u001b[0m\u001b[1;33m\u001b[0m\u001b[0m\n\u001b[0;32m      5\u001b[0m \u001b[1;33m\u001b[0m\u001b[0m\n\u001b[1;32m----> 6\u001b[1;33m SREDA(train_set = train_set,data_name = data_name,\n\u001b[0m\u001b[0;32m      7\u001b[0m       \u001b[0mmax_epoch\u001b[0m\u001b[1;33m=\u001b[0m\u001b[0mmax_epoch\u001b[0m\u001b[1;33m,\u001b[0m\u001b[0mepoch_numer\u001b[0m\u001b[1;33m=\u001b[0m\u001b[0mepoch_number\u001b[0m\u001b[1;33m,\u001b[0m\u001b[1;33m\u001b[0m\u001b[1;33m\u001b[0m\u001b[0m\n\u001b[0;32m      8\u001b[0m       \u001b[0mb\u001b[0m \u001b[1;33m=\u001b[0m \u001b[0mb\u001b[0m\u001b[1;33m,\u001b[0m \u001b[0mb_1\u001b[0m \u001b[1;33m=\u001b[0m \u001b[0mb_1\u001b[0m\u001b[1;33m,\u001b[0m \u001b[0mq\u001b[0m \u001b[1;33m=\u001b[0m \u001b[0mq\u001b[0m\u001b[1;33m,\u001b[0m \u001b[0mm\u001b[0m\u001b[1;33m=\u001b[0m\u001b[0mm\u001b[0m\u001b[1;33m,\u001b[0m\u001b[1;33m\u001b[0m\u001b[1;33m\u001b[0m\u001b[0m\n",
      "\u001b[1;32mc:\\Users\\Xuan\\d2l-en\\NIPS2022\\Experiment2_Logistic_regression\\algorithms.py\u001b[0m in \u001b[0;36mSREDA\u001b[1;34m(train_set, data_name, lr_x, lr_y, theta0, rho, eta, alpha, mu_y, mu_x, b, b_1, q, m, sim_time, max_epoch, epoch_numer, is_show_result, is_save_data, device)\u001b[0m\n\u001b[0;32m    804\u001b[0m                 \u001b[1;31m# compute grad pre_test1, y_k-1\u001b[0m\u001b[1;33m\u001b[0m\u001b[1;33m\u001b[0m\u001b[0m\n\u001b[0;32m    805\u001b[0m                 \u001b[0mpre_test1\u001b[0m\u001b[1;33m.\u001b[0m\u001b[0mzero_grad\u001b[0m\u001b[1;33m(\u001b[0m\u001b[1;33m)\u001b[0m\u001b[1;33m\u001b[0m\u001b[1;33m\u001b[0m\u001b[0m\n\u001b[1;32m--> 806\u001b[1;33m                 \u001b[0mpre_test1\u001b[0m\u001b[1;33m.\u001b[0m\u001b[0mloss\u001b[0m\u001b[1;33m(\u001b[0m\u001b[0mpre_test1\u001b[0m\u001b[1;33m.\u001b[0m\u001b[0mforward\u001b[0m\u001b[1;33m(\u001b[0m\u001b[0mdata\u001b[0m\u001b[1;33m)\u001b[0m\u001b[1;33m,\u001b[0m\u001b[0mbatch_index\u001b[0m\u001b[1;33m,\u001b[0m\u001b[0mtarget\u001b[0m\u001b[1;33m)\u001b[0m\u001b[1;33m.\u001b[0m\u001b[0mbackward\u001b[0m\u001b[1;33m(\u001b[0m\u001b[1;33m)\u001b[0m\u001b[1;33m\u001b[0m\u001b[1;33m\u001b[0m\u001b[0m\n\u001b[0m\u001b[0;32m    807\u001b[0m \u001b[1;33m\u001b[0m\u001b[0m\n\u001b[0;32m    808\u001b[0m                 \u001b[1;31m# compute grad pre_test1, y_k\u001b[0m\u001b[1;33m\u001b[0m\u001b[1;33m\u001b[0m\u001b[0m\n",
      "\u001b[1;32m~\\anaconda3\\envs\\deeplearning\\lib\\site-packages\\torch\\_tensor.py\u001b[0m in \u001b[0;36mbackward\u001b[1;34m(self, gradient, retain_graph, create_graph, inputs)\u001b[0m\n\u001b[0;32m    361\u001b[0m                 \u001b[0mcreate_graph\u001b[0m\u001b[1;33m=\u001b[0m\u001b[0mcreate_graph\u001b[0m\u001b[1;33m,\u001b[0m\u001b[1;33m\u001b[0m\u001b[1;33m\u001b[0m\u001b[0m\n\u001b[0;32m    362\u001b[0m                 inputs=inputs)\n\u001b[1;32m--> 363\u001b[1;33m         \u001b[0mtorch\u001b[0m\u001b[1;33m.\u001b[0m\u001b[0mautograd\u001b[0m\u001b[1;33m.\u001b[0m\u001b[0mbackward\u001b[0m\u001b[1;33m(\u001b[0m\u001b[0mself\u001b[0m\u001b[1;33m,\u001b[0m \u001b[0mgradient\u001b[0m\u001b[1;33m,\u001b[0m \u001b[0mretain_graph\u001b[0m\u001b[1;33m,\u001b[0m \u001b[0mcreate_graph\u001b[0m\u001b[1;33m,\u001b[0m \u001b[0minputs\u001b[0m\u001b[1;33m=\u001b[0m\u001b[0minputs\u001b[0m\u001b[1;33m)\u001b[0m\u001b[1;33m\u001b[0m\u001b[1;33m\u001b[0m\u001b[0m\n\u001b[0m\u001b[0;32m    364\u001b[0m \u001b[1;33m\u001b[0m\u001b[0m\n\u001b[0;32m    365\u001b[0m     \u001b[1;32mdef\u001b[0m \u001b[0mregister_hook\u001b[0m\u001b[1;33m(\u001b[0m\u001b[0mself\u001b[0m\u001b[1;33m,\u001b[0m \u001b[0mhook\u001b[0m\u001b[1;33m)\u001b[0m\u001b[1;33m:\u001b[0m\u001b[1;33m\u001b[0m\u001b[1;33m\u001b[0m\u001b[0m\n",
      "\u001b[1;32m~\\anaconda3\\envs\\deeplearning\\lib\\site-packages\\torch\\autograd\\__init__.py\u001b[0m in \u001b[0;36mbackward\u001b[1;34m(tensors, grad_tensors, retain_graph, create_graph, grad_variables, inputs)\u001b[0m\n\u001b[0;32m    171\u001b[0m     \u001b[1;31m# some Python versions print out the first line of a multi-line function\u001b[0m\u001b[1;33m\u001b[0m\u001b[1;33m\u001b[0m\u001b[0m\n\u001b[0;32m    172\u001b[0m     \u001b[1;31m# calls in the traceback and some print out the last line\u001b[0m\u001b[1;33m\u001b[0m\u001b[1;33m\u001b[0m\u001b[0m\n\u001b[1;32m--> 173\u001b[1;33m     Variable._execution_engine.run_backward(  # Calls into the C++ engine to run the backward pass\n\u001b[0m\u001b[0;32m    174\u001b[0m         \u001b[0mtensors\u001b[0m\u001b[1;33m,\u001b[0m \u001b[0mgrad_tensors_\u001b[0m\u001b[1;33m,\u001b[0m \u001b[0mretain_graph\u001b[0m\u001b[1;33m,\u001b[0m \u001b[0mcreate_graph\u001b[0m\u001b[1;33m,\u001b[0m \u001b[0minputs\u001b[0m\u001b[1;33m,\u001b[0m\u001b[1;33m\u001b[0m\u001b[1;33m\u001b[0m\u001b[0m\n\u001b[0;32m    175\u001b[0m         allow_unreachable=True, accumulate_grad=True)  # Calls into the C++ engine to run the backward pass\n",
      "\u001b[1;31mKeyboardInterrupt\u001b[0m: "
     ]
    }
   ],
   "source": [
    "b,b_1,q = 3000,10,10\n",
    "m = 10\n",
    "torch.manual_seed(2)\n",
    "from algorithms import SREDA\n",
    "\n",
    "SREDA(train_set = train_set,data_name = data_name,\n",
    "      max_epoch=max_epoch,epoch_numer=epoch_number,\n",
    "      b = b, b_1 = b_1, q = q, m=m,\n",
    "       lr_x=1, lr_y = 0.001,\n",
    "       is_save_data=True, is_show_result=True)"
   ]
  },
  {
   "cell_type": "code",
   "execution_count": null,
   "metadata": {},
   "outputs": [],
   "source": []
  }
 ],
 "metadata": {
  "interpreter": {
   "hash": "942864100f8419b83a2d1fd4b4674dca9fc4ff1dd09d8e2be337313bad38736a"
  },
  "kernelspec": {
   "display_name": "Python 3.9.7 ('base')",
   "language": "python",
   "name": "python3"
  },
  "language_info": {
   "codemirror_mode": {
    "name": "ipython",
    "version": 3
   },
   "file_extension": ".py",
   "mimetype": "text/x-python",
   "name": "python",
   "nbconvert_exporter": "python",
   "pygments_lexer": "ipython3",
   "version": "3.9.7"
  },
  "orig_nbformat": 4
 },
 "nbformat": 4,
 "nbformat_minor": 2
}
